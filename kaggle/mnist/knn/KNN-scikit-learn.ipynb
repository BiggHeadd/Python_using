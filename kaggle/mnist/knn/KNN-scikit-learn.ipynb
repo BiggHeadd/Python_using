{
 "cells": [
  {
   "cell_type": "code",
   "execution_count": 1,
   "metadata": {},
   "outputs": [],
   "source": [
    "# -*-coding:utf-8-*-\n",
    "# Edited by bighead 19-2-15\n",
    "\n",
    "import numpy as np\n",
    "import pandas as pd\n",
    "import cv2\n",
    "import random\n",
    "import time\n",
    "\n",
    "from sklearn.model_selection import train_test_split\n",
    "from sklearn.metrics import accuracy_score\n",
    "from sklearn.neighbors import KNeighborsClassifier"
   ]
  },
  {
   "cell_type": "code",
   "execution_count": 2,
   "metadata": {},
   "outputs": [],
   "source": [
    "##### get hog feature\n",
    "def get_hot_features(trainset):\n",
    "    features=[]\n",
    "    hog = cv2.HOGDescriptor('../data/hog.xml')\n",
    "    \n",
    "    for img in trainset:\n",
    "        img = np.reshape(img, (28,28))\n",
    "        cv_img = img.astype(np.uint8)\n",
    "        \n",
    "        hog_feature = hog.compute(cv_img)\n",
    "        features.append(hog_feature)\n",
    "        \n",
    "    features = np.array(features)\n",
    "    features = np.reshape(features, (-1, 324))\n",
    "    \n",
    "    return features"
   ]
  },
  {
   "cell_type": "code",
   "execution_count": 3,
   "metadata": {},
   "outputs": [],
   "source": [
    "##### define the neighbors k\n",
    "k = 10"
   ]
  },
  {
   "cell_type": "code",
   "execution_count": 4,
   "metadata": {},
   "outputs": [],
   "source": [
    "##### K nearest neightbors model using KDTree\n",
    "KNC = KNeighborsClassifier(n_neighbors=k, weights='uniform', algorithm='kd_tree')"
   ]
  },
  {
   "cell_type": "code",
   "execution_count": 5,
   "metadata": {},
   "outputs": [
    {
     "name": "stdout",
     "output_type": "stream",
     "text": [
      "Start read the data\n",
      "read data finish! cost: 6.01065802574 seconds\n",
      "start training\n",
      "fit the sklearn knn model\n",
      "training cost: 1.02905297279 seconds\n",
      "start predictiing\n",
      "predicting cost: 375.218507051 seconds\n",
      "The accruacy scores is 0.987301587302\n"
     ]
    }
   ],
   "source": [
    "##### main\n",
    "print(\"Start read the data\")\n",
    "time_1 = time.time()\n",
    "\n",
    "raw_data = pd.read_csv('../data/train.csv', header=0)\n",
    "data = raw_data.values\n",
    "\n",
    "imgs=data[:, 1:]\n",
    "labels=data[:,0]\n",
    "\n",
    "features=get_hot_features(imgs)\n",
    "\n",
    "### train test set split\n",
    "features_train, features_test, label_train, label_test = train_test_split(features, labels, test_size=0.33, random_state=23323)\n",
    "\n",
    "time_2 = time.time()\n",
    "print(\"read data finish! cost: {} seconds\".format(time_2-time_1))\n",
    "\n",
    "### training\n",
    "print(\"start training\")\n",
    "print(\"fit the sklearn knn model\")\n",
    "KNC.fit(features, labels)\n",
    "time_3 = time.time()\n",
    "print(\"training cost: {} seconds\".format(time_3-time_2))\n",
    "\n",
    "### predicting\n",
    "print(\"start predictiing\")\n",
    "label_predict = KNC.predict(features_test)\n",
    "time_4 = time.time()\n",
    "print(\"predicting cost: {} seconds\".format(time_4-time_3))\n",
    "\n",
    "### score\n",
    "score = accuracy_score(label_test, label_predict)\n",
    "print(\"The accruacy scores is {}\".format(score))"
   ]
  },
  {
   "cell_type": "code",
   "execution_count": 6,
   "metadata": {},
   "outputs": [],
   "source": [
    "# print features_train.shape"
   ]
  },
  {
   "cell_type": "code",
   "execution_count": 7,
   "metadata": {},
   "outputs": [],
   "source": [
    "# print label_train.shape"
   ]
  },
  {
   "cell_type": "code",
   "execution_count": 8,
   "metadata": {},
   "outputs": [],
   "source": [
    "### load test data\n",
    "kaggle_test_features = pd.read_csv('../data/test.csv').values\n",
    "kaggle_test_features = get_hot_features(kaggle_test_features)"
   ]
  },
  {
   "cell_type": "code",
   "execution_count": 9,
   "metadata": {},
   "outputs": [
    {
     "name": "stdout",
     "output_type": "stream",
     "text": [
      "finish predicting kaggle test data, cost: 756.729955912\n"
     ]
    }
   ],
   "source": [
    "### kaggle mnist predict\n",
    "time_start = time.time()\n",
    "kaggle_predict = KNC.predict(kaggle_test_features)\n",
    "print(\"finish predicting kaggle test data, cost: {}\".format(time.time()-time_start))"
   ]
  },
  {
   "cell_type": "code",
   "execution_count": 10,
   "metadata": {},
   "outputs": [
    {
     "name": "stdout",
     "output_type": "stream",
     "text": [
      "(28000,)\n"
     ]
    }
   ],
   "source": [
    "kaggle_predict\n",
    "print(kaggle_predict.shape)\n",
    "submit = pd.DataFrame(columns=['ImageId', 'Label'])\n",
    "submit['ImageId'] = [i for i in range(1, len(kaggle_predict)+1)]\n",
    "submit['Label'] = kaggle_predict"
   ]
  },
  {
   "cell_type": "code",
   "execution_count": 11,
   "metadata": {},
   "outputs": [],
   "source": [
    "submit.to_csv(\"submit_knn.csv\", index=False)"
   ]
  },
  {
   "cell_type": "code",
   "execution_count": null,
   "metadata": {},
   "outputs": [],
   "source": []
  }
 ],
 "metadata": {
  "kernelspec": {
   "display_name": "Python 2",
   "language": "python",
   "name": "python2"
  },
  "language_info": {
   "codemirror_mode": {
    "name": "ipython",
    "version": 2
   },
   "file_extension": ".py",
   "mimetype": "text/x-python",
   "name": "python",
   "nbconvert_exporter": "python",
   "pygments_lexer": "ipython2",
   "version": "2.7.15+"
  }
 },
 "nbformat": 4,
 "nbformat_minor": 2
}
