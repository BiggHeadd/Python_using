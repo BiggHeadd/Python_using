{
 "cells": [
  {
   "cell_type": "code",
   "execution_count": 2,
   "metadata": {},
   "outputs": [],
   "source": [
    "# -*- coding:utf-8 -*-\n",
    "# Edited by bighead 19-2-12\n",
    "\n",
    "import Tkinter as tk"
   ]
  },
  {
   "cell_type": "code",
   "execution_count": 3,
   "metadata": {},
   "outputs": [
    {
     "data": {
      "text/plain": [
       "''"
      ]
     },
     "execution_count": 3,
     "metadata": {},
     "output_type": "execute_result"
    }
   ],
   "source": [
    "######### MainFrame\n",
    "window=tk.Tk()\n",
    "window.title('my window')\n",
    "window.geometry('200x400')"
   ]
  },
  {
   "cell_type": "code",
   "execution_count": 4,
   "metadata": {},
   "outputs": [],
   "source": [
    "def print_selection():\n",
    "    global l\n",
    "    l.config(text='you have selected ' + var.get())\n",
    "\n",
    "def print_selection_(v):\n",
    "    l2.config(text='you have selected '+v)\n",
    "    \n",
    "def print_selection_checkbutton():\n",
    "    global varcheck1, varcheck2\n",
    "    if varcheck1.get()==1 and varcheck2.get()==0:\n",
    "        l3.config(text='I love only Python')\n",
    "    elif varcheck1.get()==0 and varcheck2.get()==1:\n",
    "        l3.config(text='I love only Java')\n",
    "    elif varcheck1.get()==1 and varcheck2.get()==1:\n",
    "        l3.config(text='I love both')\n",
    "    else:\n",
    "        l3.config(text='I love neither')\n",
    "        \n",
    "def moveit():\n",
    "    global canvas\n",
    "    canvas.move(rect, 0, 2)\n",
    "    \n",
    "def do_job():\n",
    "    global counter\n",
    "    l_count.config(text='do '+str(counter))\n",
    "    counter+=1"
   ]
  },
  {
   "cell_type": "code",
   "execution_count": 5,
   "metadata": {},
   "outputs": [],
   "source": [
    "var = tk.StringVar()\n",
    "l = tk.Label(window, bg='yellow', width=20, text='empty')\n",
    "l.pack()"
   ]
  },
  {
   "cell_type": "code",
   "execution_count": 6,
   "metadata": {},
   "outputs": [],
   "source": [
    "r1 = tk.Radiobutton(window,\n",
    "        text='Option A',\n",
    "        value='A',\n",
    "        variable=var,\n",
    "        command=print_selection\n",
    ")\n",
    "r1.pack()"
   ]
  },
  {
   "cell_type": "code",
   "execution_count": 7,
   "metadata": {},
   "outputs": [],
   "source": [
    "r2 = tk.Radiobutton(window,\n",
    "        text='Option B',\n",
    "        value='B',\n",
    "        variable=var,\n",
    "        command=print_selection\n",
    ")\n",
    "r2.pack()"
   ]
  },
  {
   "cell_type": "code",
   "execution_count": 8,
   "metadata": {},
   "outputs": [],
   "source": [
    "r3 = tk.Radiobutton(window,\n",
    "        text='Option C',\n",
    "        value='C',\n",
    "        variable=var,\n",
    "        command=print_selection\n",
    ")\n",
    "r3.pack()"
   ]
  },
  {
   "cell_type": "code",
   "execution_count": 9,
   "metadata": {},
   "outputs": [],
   "source": [
    "s = tk.Scale(window,\n",
    "             label='try me',\n",
    "             from_=5,\n",
    "             to=11,\n",
    "             orient=tk.HORIZONTAL,\n",
    "             length=200,\n",
    "             showvalue=1,\n",
    "             tickinterval=2,\n",
    "             resolution=0.01,\n",
    "             command=print_selection_\n",
    "            )\n",
    "s.pack()"
   ]
  },
  {
   "cell_type": "code",
   "execution_count": 10,
   "metadata": {},
   "outputs": [],
   "source": [
    "l2 = tk.Label(window, bg='yellow', width=20, text='empty')\n",
    "l2.pack()"
   ]
  },
  {
   "cell_type": "code",
   "execution_count": 11,
   "metadata": {},
   "outputs": [],
   "source": [
    "varcheck1 = tk.IntVar()\n",
    "c1 = tk.Checkbutton(window,\n",
    "                    text='Python',\n",
    "                    variable=varcheck1,\n",
    "                    onvalue=1,\n",
    "                    offvalue=0,\n",
    "                    command=print_selection_checkbutton,\n",
    ")\n",
    "c1.pack()"
   ]
  },
  {
   "cell_type": "code",
   "execution_count": 12,
   "metadata": {},
   "outputs": [],
   "source": [
    "varcheck2 = tk.IntVar()\n",
    "c2 = tk.Checkbutton(window,\n",
    "                    text='Java',\n",
    "                    variable=varcheck2,\n",
    "                    onvalue=1,\n",
    "                    offvalue=0,\n",
    "                    command=print_selection_checkbutton,\n",
    ")\n",
    "c2.pack()"
   ]
  },
  {
   "cell_type": "code",
   "execution_count": 13,
   "metadata": {},
   "outputs": [],
   "source": [
    "l3=tk.Label(window, bg='yellow', width=200, text='empty')\n",
    "l3.pack()"
   ]
  },
  {
   "cell_type": "code",
   "execution_count": 14,
   "metadata": {},
   "outputs": [],
   "source": [
    "canvas = tk.Canvas(window,\n",
    "                   bg='blue',\n",
    "                   height=100,\n",
    "                   width=200,\n",
    ")\n",
    "canvas.pack()"
   ]
  },
  {
   "cell_type": "code",
   "execution_count": 15,
   "metadata": {},
   "outputs": [],
   "source": [
    "image_file = tk.PhotoImage(file='pic/ins.gif')\n",
    "image = canvas.create_image(10,10,anchor='nw',image=image_file)"
   ]
  },
  {
   "cell_type": "code",
   "execution_count": 16,
   "metadata": {},
   "outputs": [],
   "source": [
    "x0, y0, x1, y1 = 50, 50, 80, 80\n",
    "line = canvas.create_line(x0, y0, x1, y1)"
   ]
  },
  {
   "cell_type": "code",
   "execution_count": 17,
   "metadata": {},
   "outputs": [],
   "source": [
    "oval = canvas.create_oval(x0, y0, x1, y1, fill='red')\n",
    "arc = canvas.create_arc(x0+30, y0+30, x1+30, y1+30, start=0, extent=180)\n",
    "rect = canvas.create_rectangle(100, 30, 100+20, 30+20)"
   ]
  },
  {
   "cell_type": "code",
   "execution_count": 18,
   "metadata": {},
   "outputs": [],
   "source": [
    "b_move = tk.Button(window,\n",
    "                   text='move',\n",
    "                   command=moveit,\n",
    ")\n",
    "b_move.pack()"
   ]
  },
  {
   "cell_type": "code",
   "execution_count": 19,
   "metadata": {},
   "outputs": [],
   "source": [
    "menubar = tk.Menu(window)\n",
    "filemenu = tk.Menu(menubar, tearoff=0)\n",
    "menubar.add_cascade(label='File', menu=filemenu)\n",
    "filemenu.add_command(label='New', command=do_job)\n",
    "filemenu.add_command(label='Open', command=do_job)\n",
    "filemenu.add_command(label='Save', command=do_job)\n",
    "\n",
    "filemenu.add_separator()"
   ]
  },
  {
   "cell_type": "code",
   "execution_count": 20,
   "metadata": {},
   "outputs": [],
   "source": [
    "submenu = tk.Menu(filemenu)\n",
    "filemenu.add_cascade(label='import', menu=submenu, underline=0)\n",
    "submenu.add_command(label='Submenu1', command=do_job)"
   ]
  },
  {
   "cell_type": "code",
   "execution_count": 21,
   "metadata": {},
   "outputs": [],
   "source": [
    "counter = 0\n",
    "l_count = tk.Label(window,\n",
    "                   bg='yellow',\n",
    "                   text='empty',\n",
    ")\n",
    "l_count.pack()"
   ]
  },
  {
   "cell_type": "code",
   "execution_count": 22,
   "metadata": {},
   "outputs": [],
   "source": [
    "window.config(menu=menubar)"
   ]
  },
  {
   "cell_type": "code",
   "execution_count": 23,
   "metadata": {},
   "outputs": [],
   "source": [
    "window.mainloop()"
   ]
  }
 ],
 "metadata": {
  "kernelspec": {
   "display_name": "Python 2",
   "language": "python",
   "name": "python2"
  },
  "language_info": {
   "codemirror_mode": {
    "name": "ipython",
    "version": 2
   },
   "file_extension": ".py",
   "mimetype": "text/x-python",
   "name": "python",
   "nbconvert_exporter": "python",
   "pygments_lexer": "ipython2",
   "version": "2.7.15+"
  }
 },
 "nbformat": 4,
 "nbformat_minor": 2
}
