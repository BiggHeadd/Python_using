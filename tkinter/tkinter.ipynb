{
 "cells": [
  {
   "cell_type": "code",
   "execution_count": 198,
   "metadata": {},
   "outputs": [],
   "source": [
    "# -*- coding:utf-8 -*-\n",
    "# Edited by bighead 19-2-12\n",
    "\n",
    "import Tkinter as tk"
   ]
  },
  {
   "cell_type": "code",
   "execution_count": 199,
   "metadata": {},
   "outputs": [
    {
     "data": {
      "text/plain": [
       "''"
      ]
     },
     "execution_count": 199,
     "metadata": {},
     "output_type": "execute_result"
    }
   ],
   "source": [
    "######### MainFrame\n",
    "window=tk.Tk()\n",
    "window.title('my window')\n",
    "window.geometry('200x400')"
   ]
  },
  {
   "cell_type": "code",
   "execution_count": 200,
   "metadata": {},
   "outputs": [],
   "source": [
    "def print_selection():\n",
    "    global l\n",
    "    l.config(text='you have selected ' + var.get())\n",
    "\n",
    "def print_selection_(v):\n",
    "    l2.config(text='you have selected '+v)\n",
    "    \n",
    "def print_selection_checkbutton():\n",
    "    global varcheck1, varcheck2\n",
    "    if varcheck1.get()==1 and varcheck2.get()==0:\n",
    "        l3.config(text='I love only Python')\n",
    "    elif varcheck1.get()==0 and varcheck2.get()==1:\n",
    "        l3.config(text='I love only Java')\n",
    "    elif varcheck1.get()==1 and varcheck2.get()==1:\n",
    "        l3.config(text='I love both')\n",
    "    else:\n",
    "        l3.config(text='I love neither')"
   ]
  },
  {
   "cell_type": "code",
   "execution_count": 201,
   "metadata": {},
   "outputs": [],
   "source": [
    "var = tk.StringVar()\n",
    "l = tk.Label(window, bg='yellow', width=20, text='empty')\n",
    "l.pack()"
   ]
  },
  {
   "cell_type": "code",
   "execution_count": 202,
   "metadata": {},
   "outputs": [],
   "source": [
    "r1 = tk.Radiobutton(window,\n",
    "        text='Option A',\n",
    "        value='A',\n",
    "        variable=var,\n",
    "        command=print_selection\n",
    ")\n",
    "r1.pack()"
   ]
  },
  {
   "cell_type": "code",
   "execution_count": 203,
   "metadata": {},
   "outputs": [],
   "source": [
    "r2 = tk.Radiobutton(window,\n",
    "        text='Option B',\n",
    "        value='B',\n",
    "        variable=var,\n",
    "        command=print_selection\n",
    ")\n",
    "r2.pack()"
   ]
  },
  {
   "cell_type": "code",
   "execution_count": 204,
   "metadata": {},
   "outputs": [],
   "source": [
    "r3 = tk.Radiobutton(window,\n",
    "        text='Option C',\n",
    "        value='C',\n",
    "        variable=var,\n",
    "        command=print_selection\n",
    ")\n",
    "r3.pack()"
   ]
  },
  {
   "cell_type": "code",
   "execution_count": 205,
   "metadata": {},
   "outputs": [],
   "source": [
    "s = tk.Scale(window,\n",
    "             label='try me',\n",
    "             from_=5,\n",
    "             to=11,\n",
    "             orient=tk.HORIZONTAL,\n",
    "             length=200,\n",
    "             showvalue=1,\n",
    "             tickinterval=2,\n",
    "             resolution=0.01,\n",
    "             command=print_selection_\n",
    "            )\n",
    "s.pack()"
   ]
  },
  {
   "cell_type": "code",
   "execution_count": 206,
   "metadata": {},
   "outputs": [],
   "source": [
    "l2 = tk.Label(window, bg='yellow', width=20, text='empty')\n",
    "l2.pack()"
   ]
  },
  {
   "cell_type": "code",
   "execution_count": 207,
   "metadata": {},
   "outputs": [],
   "source": [
    "varcheck1 = tk.IntVar()\n",
    "c1 = tk.Checkbutton(window,\n",
    "                    text='Python',\n",
    "                    variable=varcheck1,\n",
    "                    onvalue=1,\n",
    "                    offvalue=0,\n",
    "                    command=print_selection_checkbutton,\n",
    ")\n",
    "c1.pack()"
   ]
  },
  {
   "cell_type": "code",
   "execution_count": 208,
   "metadata": {},
   "outputs": [],
   "source": [
    "varcheck2 = tk.IntVar()\n",
    "c2 = tk.Checkbutton(window,\n",
    "                    text='Java',\n",
    "                    variable=varcheck2,\n",
    "                    onvalue=1,\n",
    "                    offvalue=0,\n",
    "                    command=print_selection_checkbutton,\n",
    ")\n",
    "c2.pack()"
   ]
  },
  {
   "cell_type": "code",
   "execution_count": 209,
   "metadata": {},
   "outputs": [],
   "source": [
    "l3=tk.Label(window, bg='yellow', width=200, text='empty')\n",
    "l3.pack()"
   ]
  },
  {
   "cell_type": "code",
   "execution_count": 210,
   "metadata": {},
   "outputs": [],
   "source": [
    "window.mainloop()"
   ]
  }
 ],
 "metadata": {
  "kernelspec": {
   "display_name": "Python 2",
   "language": "python",
   "name": "python2"
  },
  "language_info": {
   "codemirror_mode": {
    "name": "ipython",
    "version": 2
   },
   "file_extension": ".py",
   "mimetype": "text/x-python",
   "name": "python",
   "nbconvert_exporter": "python",
   "pygments_lexer": "ipython2",
   "version": "2.7.15+"
  }
 },
 "nbformat": 4,
 "nbformat_minor": 2
}
