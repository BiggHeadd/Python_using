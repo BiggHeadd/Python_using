{
 "cells": [
  {
   "cell_type": "code",
   "execution_count": 5,
   "metadata": {},
   "outputs": [],
   "source": [
    "# -*- coding:utf-8 -*-\n",
    "# Edited by bighead 19-2-17\n",
    "\n",
    "import Tkinter as tk\n",
    "import time\n",
    "import threading"
   ]
  },
  {
   "cell_type": "code",
   "execution_count": 6,
   "metadata": {},
   "outputs": [],
   "source": [
    "class MyApp(object):\n",
    "    def __init__(self, parent):\n",
    "        self.root=parent\n",
    "        self.root.title(\"Main Frame\")\n",
    "        self.frame = tk.Frame(parent)\n",
    "        self.frame.pack()\n",
    "    \n",
    "    def hide(self):\n",
    "        self.root.withdraw()\n",
    "        \n",
    "    def openFrame(self):\n",
    "        self.hide()\n",
    "        ###\n",
    "        login = tk.Toplevel()\n",
    "        login.title('login')\n",
    "        login.geometry('450x300')\n",
    "        ### welcome pic\n",
    "        canvas = tk.Canvas(login,\n",
    "                           height=200,\n",
    "                           width=500,\n",
    "        )\n",
    "        image_file = tk.PhotoImage(file='pic/welcome.gif')\n",
    "        image = canvas.create_image(0, 0, anchor='nw', image=image_file)\n",
    "        canvas.pack(side='top')\n",
    "        handler = lambda: self.onCloseOtherFrame(login)\n",
    "        tk.Button(login, text='Click', command=handler).place(x=200, y=150)\n",
    "    \n",
    "    def onCloseOtherFrame(self, otherFrame):\n",
    "        time.sleep(3)\n",
    "        otherFrame.destroy()\n",
    "        self.show()\n",
    "    \n",
    "    def show(self):\n",
    "        self.root.update()\n",
    "        self.root.deiconify()\n",
    "        "
   ]
  },
  {
   "cell_type": "code",
   "execution_count": 7,
   "metadata": {},
   "outputs": [],
   "source": [
    "root = tk.Tk()\n",
    "root.geometry(\"800x600\")\n",
    "app = MyApp(root)\n",
    "app.openFrame()"
   ]
  },
  {
   "cell_type": "code",
   "execution_count": 8,
   "metadata": {},
   "outputs": [],
   "source": [
    "root.mainloop()"
   ]
  }
 ],
 "metadata": {
  "kernelspec": {
   "display_name": "Python 2",
   "language": "python",
   "name": "python2"
  },
  "language_info": {
   "codemirror_mode": {
    "name": "ipython",
    "version": 2
   },
   "file_extension": ".py",
   "mimetype": "text/x-python",
   "name": "python",
   "nbconvert_exporter": "python",
   "pygments_lexer": "ipython2",
   "version": "2.7.15+"
  }
 },
 "nbformat": 4,
 "nbformat_minor": 2
}
