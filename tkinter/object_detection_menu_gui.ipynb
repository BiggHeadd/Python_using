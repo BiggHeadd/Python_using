{
 "cells": [
  {
   "cell_type": "code",
   "execution_count": 46,
   "metadata": {},
   "outputs": [],
   "source": [
    "# -*-coding:utf-8 -*-\n",
    "# Edited by bighead 19-2-19\n",
    "\n",
    "import Tkinter as tk\n",
    "import tkFileDialog"
   ]
  },
  {
   "cell_type": "code",
   "execution_count": 47,
   "metadata": {},
   "outputs": [
    {
     "data": {
      "text/plain": [
       "''"
      ]
     },
     "execution_count": 47,
     "metadata": {},
     "output_type": "execute_result"
    }
   ],
   "source": [
    "root = tk.Tk()\n",
    "root.title('mainframe')\n",
    "root.geometry('400x400')"
   ]
  },
  {
   "cell_type": "code",
   "execution_count": 48,
   "metadata": {},
   "outputs": [],
   "source": [
    "def do_job():\n",
    "    pass\n",
    "\n",
    "def dialog():\n",
    "    fileName = tkFileDialog.askopenfilename(title=u'select file')\n",
    "    print fileName"
   ]
  },
  {
   "cell_type": "code",
   "execution_count": 49,
   "metadata": {},
   "outputs": [],
   "source": [
    "menubar = tk.Menu(root)\n",
    "\n",
    "filemenu = tk.Menu(menubar, tearoff=0)\n",
    "menubar.add_cascade(label='File', menu=filemenu)\n",
    "\n",
    "filemenu.add_command(label='Open', command=dialog)##同样的在`File`中加入`Open`小菜单"
   ]
  },
  {
   "cell_type": "code",
   "execution_count": 50,
   "metadata": {},
   "outputs": [
    {
     "name": "stdout",
     "output_type": "stream",
     "text": [
      "/home/bighead/GitHub/Python_using/tkinter/Frame.ipynb\n"
     ]
    }
   ],
   "source": [
    "root.config(menu=menubar)\n",
    "root.mainloop()"
   ]
  },
  {
   "cell_type": "code",
   "execution_count": null,
   "metadata": {},
   "outputs": [],
   "source": []
  }
 ],
 "metadata": {
  "kernelspec": {
   "display_name": "Python 2",
   "language": "python",
   "name": "python2"
  },
  "language_info": {
   "codemirror_mode": {
    "name": "ipython",
    "version": 2
   },
   "file_extension": ".py",
   "mimetype": "text/x-python",
   "name": "python",
   "nbconvert_exporter": "python",
   "pygments_lexer": "ipython2",
   "version": "2.7.15+"
  }
 },
 "nbformat": 4,
 "nbformat_minor": 2
}
