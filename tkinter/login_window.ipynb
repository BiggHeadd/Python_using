{
 "cells": [
  {
   "cell_type": "code",
   "execution_count": 8,
   "metadata": {},
   "outputs": [],
   "source": [
    "# -*-coding:utf-8-*-\n",
    "# Edited by bighead 19-2-13\n",
    "\n",
    "import Tkinter as tk"
   ]
  },
  {
   "cell_type": "code",
   "execution_count": 9,
   "metadata": {},
   "outputs": [
    {
     "data": {
      "text/plain": [
       "''"
      ]
     },
     "execution_count": 9,
     "metadata": {},
     "output_type": "execute_result"
    }
   ],
   "source": [
    "###\n",
    "login = tk.Tk()\n",
    "login.title('login')\n",
    "login.geometry('450x300')"
   ]
  },
  {
   "cell_type": "code",
   "execution_count": 10,
   "metadata": {},
   "outputs": [],
   "source": [
    "def usr_login():\n",
    "    pass\n",
    "\n",
    "def usr_sign_up():\n",
    "    pass"
   ]
  },
  {
   "cell_type": "code",
   "execution_count": 11,
   "metadata": {},
   "outputs": [],
   "source": [
    "### welcome pic\n",
    "canvas = tk.Canvas(login,\n",
    "                   height=200,\n",
    "                   width=500,\n",
    ")\n",
    "image_file = tk.PhotoImage(file='pic/welcome.gif')\n",
    "image = canvas.create_image(0, 0, anchor='nw', image=image_file)\n",
    "canvas.pack(side='top')"
   ]
  },
  {
   "cell_type": "code",
   "execution_count": 12,
   "metadata": {},
   "outputs": [],
   "source": [
    "### user information\n",
    "tk.Label(login, text='User name: ').place(x=50, y=150)\n",
    "tk.Label(login, text='Passward:').place(x=50,y=190)\n",
    "\n",
    "var_user_name = tk.StringVar()\n",
    "var_user_name.set('example@python.com')\n",
    "entry_usr_name = tk.Entry(login, textvariable=var_user_name)\n",
    "entry_usr_name.place(x=160, y=150)\n",
    "var_user_password = tk.StringVar()\n",
    "entry_usr_password = tk.Entry(login, textvariable=var_user_password, show='*')\n",
    "entry_usr_password.place(x=160, y=190)"
   ]
  },
  {
   "cell_type": "code",
   "execution_count": 13,
   "metadata": {},
   "outputs": [],
   "source": [
    "### button login, sign up\n",
    "btn_login = tk.Button(login,\n",
    "                      text='login',\n",
    "                      command=usr_login,\n",
    ")\n",
    "btn_login.place(x=170, y=230)\n",
    "btn_signup = tk.Button(login,\n",
    "                       text='sign up',\n",
    "                       command=usr_sign_up,\n",
    ")\n",
    "btn_signup.place(x=270, y=230)"
   ]
  },
  {
   "cell_type": "code",
   "execution_count": 14,
   "metadata": {},
   "outputs": [],
   "source": [
    "login.mainloop()"
   ]
  }
 ],
 "metadata": {
  "kernelspec": {
   "display_name": "Python 2",
   "language": "python",
   "name": "python2"
  },
  "language_info": {
   "codemirror_mode": {
    "name": "ipython",
    "version": 2
   },
   "file_extension": ".py",
   "mimetype": "text/x-python",
   "name": "python",
   "nbconvert_exporter": "python",
   "pygments_lexer": "ipython2",
   "version": "2.7.15+"
  }
 },
 "nbformat": 4,
 "nbformat_minor": 2
}
