{
 "cells": [
  {
   "cell_type": "code",
   "execution_count": 35,
   "metadata": {},
   "outputs": [],
   "source": [
    "# -*-coding:utf-8-*-\n",
    "# Edited by bighead 19-2-13\n",
    "\n",
    "import Tkinter as tk"
   ]
  },
  {
   "cell_type": "code",
   "execution_count": 36,
   "metadata": {},
   "outputs": [
    {
     "data": {
      "text/plain": [
       "''"
      ]
     },
     "execution_count": 36,
     "metadata": {},
     "output_type": "execute_result"
    }
   ],
   "source": [
    "###\n",
    "window = tk.Tk()\n",
    "window.title(\"Grid\")\n",
    "window.geometry(\"400x400\")"
   ]
  },
  {
   "cell_type": "code",
   "execution_count": 37,
   "metadata": {},
   "outputs": [],
   "source": [
    "# ### pack\n",
    "# tk.Label(window, text='1').pack(side='top')\n",
    "# tk.Label(window, text='1').pack(side='bottom')\n",
    "# tk.Label(window, text='1').pack(side='left')\n",
    "# tk.Label(window, text='1').pack(side='right')"
   ]
  },
  {
   "cell_type": "code",
   "execution_count": 38,
   "metadata": {},
   "outputs": [],
   "source": [
    "# ### grid\n",
    "# for i in range(4):\n",
    "#     for j in range(3):\n",
    "#         tk.Label(window, text='1').grid(row=i, column=j, padx=10, pady=10)"
   ]
  },
  {
   "cell_type": "code",
   "execution_count": 39,
   "metadata": {},
   "outputs": [],
   "source": [
    "# ### place\n",
    "# for i in range(4):\n",
    "#     for j in range(3):\n",
    "#         tk.Label(window, text='1').place(x=i*100, y=j*100, anchor='nw')"
   ]
  },
  {
   "cell_type": "code",
   "execution_count": 40,
   "metadata": {},
   "outputs": [],
   "source": [
    "window.mainloop()"
   ]
  }
 ],
 "metadata": {
  "kernelspec": {
   "display_name": "Python 2",
   "language": "python",
   "name": "python2"
  },
  "language_info": {
   "codemirror_mode": {
    "name": "ipython",
    "version": 2
   },
   "file_extension": ".py",
   "mimetype": "text/x-python",
   "name": "python",
   "nbconvert_exporter": "python",
   "pygments_lexer": "ipython2",
   "version": "2.7.15+"
  }
 },
 "nbformat": 4,
 "nbformat_minor": 2
}
