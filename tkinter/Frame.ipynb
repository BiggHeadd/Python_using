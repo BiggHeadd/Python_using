{
 "cells": [
  {
   "cell_type": "code",
   "execution_count": 72,
   "metadata": {},
   "outputs": [],
   "source": [
    "# -*-coding: utf-8-*-\n",
    "# Edited by bighead 19-2-13\n",
    "\n",
    "import Tkinter as tk\n",
    "import tkMessageBox as mb"
   ]
  },
  {
   "cell_type": "code",
   "execution_count": 73,
   "metadata": {},
   "outputs": [
    {
     "data": {
      "text/plain": [
       "''"
      ]
     },
     "execution_count": 73,
     "metadata": {},
     "output_type": "execute_result"
    }
   ],
   "source": [
    "###\n",
    "window = tk.Tk()\n",
    "window.title(\"Frame\")\n",
    "window.geometry('200x200')"
   ]
  },
  {
   "cell_type": "code",
   "execution_count": 74,
   "metadata": {},
   "outputs": [],
   "source": [
    "def info():\n",
    "    mb.showinfo(title='notice', message='information')\n",
    "\n",
    "def warning():\n",
    "    mb.showwarning(title='notice', message='warning')\n",
    "\n",
    "def error():\n",
    "    mb.showerror(title='notice', message='error')\n",
    "\n",
    "def question():\n",
    "    mb.askquestion(title='notice', message='question')"
   ]
  },
  {
   "cell_type": "code",
   "execution_count": 75,
   "metadata": {},
   "outputs": [],
   "source": [
    "###\n",
    "tk.Label(window,\n",
    "         text='on the window'\n",
    ").pack()\n",
    "\n",
    "###\n",
    "frm = tk.Frame(window)\n",
    "frm.pack()\n",
    "\n",
    "###\n",
    "frm_l = tk.Frame(frm)\n",
    "frm_r = tk.Frame(frm)\n",
    "\n",
    "###\n",
    "frm_l.pack(side='left')\n",
    "frm_r.pack(side='right')\n",
    "\n",
    "###\n",
    "tk.Label(frm_l, text='on the frm_l1').pack()\n",
    "tk.Label(frm_l, text='on the frm_l2').pack()\n",
    "tk.Label(frm_r, text='on the frm_r1').pack()\n",
    "tk.Label(frm_r, text='on the frm_r2').pack()"
   ]
  },
  {
   "cell_type": "code",
   "execution_count": 76,
   "metadata": {},
   "outputs": [],
   "source": [
    "###\n",
    "tk.Button(frm_l,\n",
    "          text='info',\n",
    "          command=info,\n",
    ").pack()\n",
    "\n",
    "tk.Button(frm_r,\n",
    "          text='warning',\n",
    "          command=warning,\n",
    ").pack()\n",
    "\n",
    "tk.Button(frm_l,\n",
    "          text='error',\n",
    "          command=error,\n",
    ").pack()\n",
    "\n",
    "tk.Button(frm_r,\n",
    "          text='question',\n",
    "          command=question,\n",
    ").pack()"
   ]
  },
  {
   "cell_type": "code",
   "execution_count": 77,
   "metadata": {},
   "outputs": [],
   "source": [
    "window.mainloop()"
   ]
  }
 ],
 "metadata": {
  "kernelspec": {
   "display_name": "Python 2",
   "language": "python",
   "name": "python2"
  },
  "language_info": {
   "codemirror_mode": {
    "name": "ipython",
    "version": 2
   },
   "file_extension": ".py",
   "mimetype": "text/x-python",
   "name": "python",
   "nbconvert_exporter": "python",
   "pygments_lexer": "ipython2",
   "version": "2.7.15+"
  }
 },
 "nbformat": 4,
 "nbformat_minor": 2
}
